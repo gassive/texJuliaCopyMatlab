{
 "cells": [
  {
   "cell_type": "code",
   "execution_count": 74,
   "metadata": {},
   "outputs": [],
   "source": [
    "import numpy as np\n",
    "nrow=10000000\n",
    "a=np.random.rand(nrow)\n",
    "b=np.random.rand(nrow)"
   ]
  },
  {
   "cell_type": "code",
   "execution_count": 75,
   "metadata": {},
   "outputs": [],
   "source": [
    "import time"
   ]
  },
  {
   "cell_type": "code",
   "execution_count": 76,
   "metadata": {},
   "outputs": [],
   "source": [
    "def time_vect():\n",
    "    c=np.dot(a,b)\n",
    "    return c    "
   ]
  },
  {
   "cell_type": "code",
   "execution_count": 77,
   "metadata": {},
   "outputs": [],
   "source": [
    "def time_loop():\n",
    "    c=0\n",
    "    for i in range(nrow):\n",
    "        c+=a[i]*b[i]\n",
    "    return c"
   ]
  },
  {
   "cell_type": "code",
   "execution_count": 78,
   "metadata": {},
   "outputs": [
    {
     "name": "stdout",
     "output_type": "stream",
     "text": [
      "2498683.76526\n",
      "向量化时间：0.007005214691162109\n"
     ]
    }
   ],
   "source": [
    "tic=time.time()\n",
    "c=time_vect()\n",
    "toc=time.time()\n",
    "print(c)\n",
    "print(\"向量化时间：\" + str(toc-tic))"
   ]
  },
  {
   "cell_type": "code",
   "execution_count": 79,
   "metadata": {},
   "outputs": [
    {
     "name": "stdout",
     "output_type": "stream",
     "text": [
      "2498683.76526\n",
      "循环化时间：3.999988079071045\n"
     ]
    }
   ],
   "source": [
    "tic=time.time()\n",
    "c=time_loop()\n",
    "toc=time.time()\n",
    "print(c)\n",
    "print(\"循环化时间：\" + str(toc-tic))"
   ]
  },
  {
   "cell_type": "code",
   "execution_count": null,
   "metadata": {},
   "outputs": [],
   "source": []
  }
 ],
 "metadata": {
  "kernelspec": {
   "display_name": "Python 3",
   "language": "python",
   "name": "python3"
  },
  "language_info": {
   "codemirror_mode": {
    "name": "ipython",
    "version": 3
   },
   "file_extension": ".py",
   "mimetype": "text/x-python",
   "name": "python",
   "nbconvert_exporter": "python",
   "pygments_lexer": "ipython3",
   "version": "3.6.2"
  }
 },
 "nbformat": 4,
 "nbformat_minor": 2
}
